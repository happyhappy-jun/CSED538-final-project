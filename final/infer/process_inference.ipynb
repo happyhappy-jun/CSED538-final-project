{
 "metadata": {
  "language_info": {
   "codemirror_mode": {
    "name": "ipython",
    "version": 3
   },
   "file_extension": ".py",
   "mimetype": "text/x-python",
   "name": "python",
   "nbconvert_exporter": "python",
   "pygments_lexer": "ipython3",
   "version": "3.7.9"
  },
  "orig_nbformat": 2,
  "kernelspec": {
   "name": "python379jvsc74a57bd00a17c5a8cabc934013ea33bd316d6ca3864c12bdbb903d596378801aca796dd5",
   "display_name": "Python 3.7.9 64-bit ('pytorch': conda)"
  },
  "metadata": {
   "interpreter": {
    "hash": "0a17c5a8cabc934013ea33bd316d6ca3864c12bdbb903d596378801aca796dd5"
   }
  }
 },
 "nbformat": 4,
 "nbformat_minor": 2,
 "cells": [
  {
   "cell_type": "code",
   "execution_count": 1,
   "metadata": {},
   "outputs": [],
   "source": [
    "import pandas as pd\n",
    "#python inference.py /home/junyoon/project/CSED538/data/DL20_34k/test --output_dir infer --model vit_large_patch32_384 --mean 0.485 0.456 0.406 --std 0.229 0.224 0.225 --num-classes 20 --checkpoint ./output/train/20210516-102451-vit_large_patch32_384-384/checkpoint-87.pth.tar\n"
   ]
  },
  {
   "cell_type": "code",
   "execution_count": 2,
   "metadata": {},
   "outputs": [
    {
     "output_type": "execute_result",
     "data": {
      "text/plain": [
       "            id   c   1   2   3   4\n",
       "0   100011.png  10  12  16   8   5\n",
       "1   100196.png  11  19  18   6   2\n",
       "2   100334.png  14   9  11  19  10\n",
       "3   100433.png  16   2   9   5   1\n",
       "4   100500.png  13  16   0  15  14\n",
       "..         ...  ..  ..  ..  ..  ..\n",
       "95  106078.png  18   5   4  10  11\n",
       "96  106102.png  18   7  10   8  11\n",
       "97  106103.png  10   8   5  13   4\n",
       "98  106156.png  15  14   8   1   0\n",
       "99  106181.png   2  13  19  16  18\n",
       "\n",
       "[100 rows x 6 columns]"
      ],
      "text/html": "<div>\n<style scoped>\n    .dataframe tbody tr th:only-of-type {\n        vertical-align: middle;\n    }\n\n    .dataframe tbody tr th {\n        vertical-align: top;\n    }\n\n    .dataframe thead th {\n        text-align: right;\n    }\n</style>\n<table border=\"1\" class=\"dataframe\">\n  <thead>\n    <tr style=\"text-align: right;\">\n      <th></th>\n      <th>id</th>\n      <th>c</th>\n      <th>1</th>\n      <th>2</th>\n      <th>3</th>\n      <th>4</th>\n    </tr>\n  </thead>\n  <tbody>\n    <tr>\n      <th>0</th>\n      <td>100011.png</td>\n      <td>10</td>\n      <td>12</td>\n      <td>16</td>\n      <td>8</td>\n      <td>5</td>\n    </tr>\n    <tr>\n      <th>1</th>\n      <td>100196.png</td>\n      <td>11</td>\n      <td>19</td>\n      <td>18</td>\n      <td>6</td>\n      <td>2</td>\n    </tr>\n    <tr>\n      <th>2</th>\n      <td>100334.png</td>\n      <td>14</td>\n      <td>9</td>\n      <td>11</td>\n      <td>19</td>\n      <td>10</td>\n    </tr>\n    <tr>\n      <th>3</th>\n      <td>100433.png</td>\n      <td>16</td>\n      <td>2</td>\n      <td>9</td>\n      <td>5</td>\n      <td>1</td>\n    </tr>\n    <tr>\n      <th>4</th>\n      <td>100500.png</td>\n      <td>13</td>\n      <td>16</td>\n      <td>0</td>\n      <td>15</td>\n      <td>14</td>\n    </tr>\n    <tr>\n      <th>...</th>\n      <td>...</td>\n      <td>...</td>\n      <td>...</td>\n      <td>...</td>\n      <td>...</td>\n      <td>...</td>\n    </tr>\n    <tr>\n      <th>95</th>\n      <td>106078.png</td>\n      <td>18</td>\n      <td>5</td>\n      <td>4</td>\n      <td>10</td>\n      <td>11</td>\n    </tr>\n    <tr>\n      <th>96</th>\n      <td>106102.png</td>\n      <td>18</td>\n      <td>7</td>\n      <td>10</td>\n      <td>8</td>\n      <td>11</td>\n    </tr>\n    <tr>\n      <th>97</th>\n      <td>106103.png</td>\n      <td>10</td>\n      <td>8</td>\n      <td>5</td>\n      <td>13</td>\n      <td>4</td>\n    </tr>\n    <tr>\n      <th>98</th>\n      <td>106156.png</td>\n      <td>15</td>\n      <td>14</td>\n      <td>8</td>\n      <td>1</td>\n      <td>0</td>\n    </tr>\n    <tr>\n      <th>99</th>\n      <td>106181.png</td>\n      <td>2</td>\n      <td>13</td>\n      <td>19</td>\n      <td>16</td>\n      <td>18</td>\n    </tr>\n  </tbody>\n</table>\n<p>100 rows × 6 columns</p>\n</div>"
     },
     "metadata": {},
     "execution_count": 2
    }
   ],
   "source": [
    "df = pd.read_csv(\"topk_ids.csv\", names=[\"id\",\"c\",\"1\",\"2\",\"3\",\"4\"])\n",
    "df.head(100)"
   ]
  },
  {
   "cell_type": "code",
   "execution_count": 3,
   "metadata": {},
   "outputs": [],
   "source": [
    "m = {0:0, 1:1, 2:12, 3:13, 4:14, 5:15, 6:16, 7:17, 8:18, 9:19, 10:2, 11:3, 12:4, 13:5, 14:6, 15:7, 16:8, 17:9, 18:10, 19:11}\n",
    "df = df.replace({\"c\":m})\n",
    "id_list = [filename.split(\".\")[0] for filename in df[\"id\"]]\n"
   ]
  },
  {
   "cell_type": "code",
   "execution_count": 4,
   "metadata": {},
   "outputs": [],
   "source": [
    "\n",
    "submission = pd.DataFrame({\"id\": id_list, \"Category\": df[\"c\"]})\n",
    "submission.to_csv(\"submission.csv\", index=False)"
   ]
  },
  {
   "cell_type": "code",
   "execution_count": 5,
   "metadata": {},
   "outputs": [
    {
     "output_type": "execute_result",
     "data": {
      "text/plain": [
       "        id  Category\n",
       "0   100011         2\n",
       "1   100196         3\n",
       "2   100334         6\n",
       "3   100433         8\n",
       "4   100500         5\n",
       "5   100535        13\n",
       "6   100587        17\n",
       "7   100712         5\n",
       "8   100792        19\n",
       "9   100837         5\n",
       "10  100869         7\n",
       "11  100908        13\n",
       "12  100985        18\n",
       "13  101004         2\n",
       "14  101041        18\n",
       "15  101182         0\n",
       "16  101269        16\n",
       "17  101295         3\n",
       "18  101297        16\n",
       "19  101314        15"
      ],
      "text/html": "<div>\n<style scoped>\n    .dataframe tbody tr th:only-of-type {\n        vertical-align: middle;\n    }\n\n    .dataframe tbody tr th {\n        vertical-align: top;\n    }\n\n    .dataframe thead th {\n        text-align: right;\n    }\n</style>\n<table border=\"1\" class=\"dataframe\">\n  <thead>\n    <tr style=\"text-align: right;\">\n      <th></th>\n      <th>id</th>\n      <th>Category</th>\n    </tr>\n  </thead>\n  <tbody>\n    <tr>\n      <th>0</th>\n      <td>100011</td>\n      <td>2</td>\n    </tr>\n    <tr>\n      <th>1</th>\n      <td>100196</td>\n      <td>3</td>\n    </tr>\n    <tr>\n      <th>2</th>\n      <td>100334</td>\n      <td>6</td>\n    </tr>\n    <tr>\n      <th>3</th>\n      <td>100433</td>\n      <td>8</td>\n    </tr>\n    <tr>\n      <th>4</th>\n      <td>100500</td>\n      <td>5</td>\n    </tr>\n    <tr>\n      <th>5</th>\n      <td>100535</td>\n      <td>13</td>\n    </tr>\n    <tr>\n      <th>6</th>\n      <td>100587</td>\n      <td>17</td>\n    </tr>\n    <tr>\n      <th>7</th>\n      <td>100712</td>\n      <td>5</td>\n    </tr>\n    <tr>\n      <th>8</th>\n      <td>100792</td>\n      <td>19</td>\n    </tr>\n    <tr>\n      <th>9</th>\n      <td>100837</td>\n      <td>5</td>\n    </tr>\n    <tr>\n      <th>10</th>\n      <td>100869</td>\n      <td>7</td>\n    </tr>\n    <tr>\n      <th>11</th>\n      <td>100908</td>\n      <td>13</td>\n    </tr>\n    <tr>\n      <th>12</th>\n      <td>100985</td>\n      <td>18</td>\n    </tr>\n    <tr>\n      <th>13</th>\n      <td>101004</td>\n      <td>2</td>\n    </tr>\n    <tr>\n      <th>14</th>\n      <td>101041</td>\n      <td>18</td>\n    </tr>\n    <tr>\n      <th>15</th>\n      <td>101182</td>\n      <td>0</td>\n    </tr>\n    <tr>\n      <th>16</th>\n      <td>101269</td>\n      <td>16</td>\n    </tr>\n    <tr>\n      <th>17</th>\n      <td>101295</td>\n      <td>3</td>\n    </tr>\n    <tr>\n      <th>18</th>\n      <td>101297</td>\n      <td>16</td>\n    </tr>\n    <tr>\n      <th>19</th>\n      <td>101314</td>\n      <td>15</td>\n    </tr>\n  </tbody>\n</table>\n</div>"
     },
     "metadata": {},
     "execution_count": 5
    }
   ],
   "source": [
    "submission.head(20)"
   ]
  },
  {
   "cell_type": "code",
   "execution_count": null,
   "metadata": {},
   "outputs": [],
   "source": []
  },
  {
   "cell_type": "code",
   "execution_count": null,
   "metadata": {},
   "outputs": [],
   "source": []
  }
 ]
}